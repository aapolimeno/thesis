{
 "cells": [
  {
   "cell_type": "code",
   "execution_count": 1,
   "metadata": {},
   "outputs": [],
   "source": [
    "#open the .txt file\n",
    "pitch = open(\"resultsfile.txt\", \"r\", encoding='utf-16').read()"
   ]
  },
  {
   "cell_type": "code",
   "execution_count": 2,
   "metadata": {},
   "outputs": [],
   "source": [
    "#split the file on newlines\n",
    "lines = [x for x in pitch.splitlines()]\n",
    "split_tabs = [x for x in [line.split('\\t') for line in lines]]\n",
    "remove = [x for x in [item[1:] for item in split_tabs]]\n",
    "\n",
    "#labels = [x.split('_') for x in [item for item in remove_wubs]]\n",
    "#labels\n",
    "labels = []\n",
    "for x in remove:\n",
    "    sub = []\n",
    "    for y in x:\n",
    "        y = y.replace('_', ' ')\n",
    "        sub.append(y)\n",
    "    labels.append(sub)\n",
    "\n",
    "\n",
    "#now split on spaces\n",
    "elements = [str(x).split(' ') for x in labels]\n"
   ]
  },
  {
   "cell_type": "code",
   "execution_count": 170,
   "metadata": {},
   "outputs": [],
   "source": [
    "import pandas as pd \n",
    "\n",
    "#data frame with all the data\n",
    "df_complete = pd.DataFrame(elements)"
   ]
  },
  {
   "cell_type": "code",
   "execution_count": 172,
   "metadata": {},
   "outputs": [],
   "source": [
    "# data frame that only contains words in game phase \n",
    "tf = []\n",
    "for li in elements:\n",
    "    if li[4] == 'f' or li[4] =='t':\n",
    "        tf.append(li)\n",
    "        \n",
    "df = pd.DataFrame(tf)"
   ]
  },
  {
   "cell_type": "code",
   "execution_count": 173,
   "metadata": {},
   "outputs": [],
   "source": [
    "#remove punctiation marks from the data \n",
    "df.columns = [str(i) for i in range(10)]\n",
    "df['0'] = df['0'].str.replace(r\"\\['\", '', regex=True)\n",
    "df['5'] = df['5'].str.replace(r\"\\'\", '', regex=True)\n",
    "df['6'] = df['6'].str.replace(r\"\\'\", '', regex=True)\n",
    "df['5'] = df['5'].str.replace(r\",\", '', regex=True)\n",
    "df['6'] = df['6'].str.replace(r\",\", '', regex=True)"
   ]
  },
  {
   "cell_type": "code",
   "execution_count": 174,
   "metadata": {},
   "outputs": [],
   "source": [
    "#remove superfluous columns \n",
    "df = df.drop(axis=1, columns=['7','8','9'])"
   ]
  },
  {
   "cell_type": "code",
   "execution_count": 175,
   "metadata": {},
   "outputs": [],
   "source": [
    "#convert strings to numeric values\n",
    "df['6'] = pd.to_numeric(df['6'],errors='coerce')"
   ]
  },
  {
   "cell_type": "code",
   "execution_count": 177,
   "metadata": {},
   "outputs": [],
   "source": [
    "#gives convenient names to the columns\n",
    "df.columns = ['participant', 'group', 'phase', 'number', 'target/filler','text', 'duration']"
   ]
  },
  {
   "cell_type": "code",
   "execution_count": 178,
   "metadata": {},
   "outputs": [],
   "source": [
    "#save the output \n",
    "df.to_csv(r'/Users/alessandrapolimeno/Documents/Uni/thesis_real thing/data_analysis/export_duration.csv', \n",
    "          sep=',', index = False, header=True)"
   ]
  }
 ],
 "metadata": {
  "kernelspec": {
   "display_name": "Python 3",
   "language": "python",
   "name": "python3"
  },
  "language_info": {
   "codemirror_mode": {
    "name": "ipython",
    "version": 3
   },
   "file_extension": ".py",
   "mimetype": "text/x-python",
   "name": "python",
   "nbconvert_exporter": "python",
   "pygments_lexer": "ipython3",
   "version": "3.7.1"
  }
 },
 "nbformat": 4,
 "nbformat_minor": 2
}
