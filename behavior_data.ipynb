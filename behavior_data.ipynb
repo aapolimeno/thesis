{
 "cells": [
  {
   "cell_type": "code",
   "execution_count": 4,
   "metadata": {},
   "outputs": [],
   "source": [
    "#open the .txt file\n",
    "data = open(\"behaviour_analysis.txt\", \"r\", encoding='utf-16').read()"
   ]
  },
  {
   "cell_type": "code",
   "execution_count": 5,
   "metadata": {},
   "outputs": [],
   "source": [
    "#split the file on newlines\n",
    "lines = [x for x in data.splitlines()]\n",
    "split_tabs = [x for x in [line.split('\\t') for line in lines]]"
   ]
  },
  {
   "cell_type": "code",
   "execution_count": 6,
   "metadata": {},
   "outputs": [],
   "source": [
    "#replace commas by full stops \n",
    "replace_comma = [[x.replace(',','.') for x in l] for l in split_tabs]"
   ]
  },
  {
   "cell_type": "code",
   "execution_count": 7,
   "metadata": {},
   "outputs": [],
   "source": [
    "import pandas as pd \n",
    "#retrieve column names\n",
    "titles = replace_comma[0]\n",
    "replace_comma.pop(0)\n",
    "\n",
    "#data frame with all the data\n",
    "df = pd.DataFrame(replace_comma)"
   ]
  },
  {
   "cell_type": "code",
   "execution_count": 8,
   "metadata": {},
   "outputs": [],
   "source": [
    "# the code below counts the total occurrances of a column \n",
    "#import numpy as np\n",
    "#df['negative'].value_counts()"
   ]
  },
  {
   "cell_type": "code",
   "execution_count": 13,
   "metadata": {},
   "outputs": [],
   "source": [
    "df['towards_robot'] = pd.to_numeric(df['towards_robot'],errors='coerce')\n",
    "df['positive'] = pd.to_numeric(df['positive'],errors='coerce')"
   ]
  },
  {
   "cell_type": "code",
   "execution_count": 14,
   "metadata": {},
   "outputs": [],
   "source": [
    "#create one dataframe that only contains intro data, and one that only contains other data. \n",
    "intro_data = []\n",
    "for li in replace_comma:\n",
    "    if li[7] == '1':\n",
    "        intro_data.append(li)\n",
    "\n",
    "other_data = []\n",
    "for li in replace_comma:\n",
    "    if li[7] == '0':\n",
    "        other_data.append(li)\n",
    "        \n",
    "df_intro = pd.DataFrame(intro_data)\n",
    "df_other = pd.DataFrame(other_data)"
   ]
  },
  {
   "cell_type": "code",
   "execution_count": 17,
   "metadata": {},
   "outputs": [],
   "source": [
    "#rename the columns \n",
    "df_intro.columns = ['participant', 'towards_robot', 'not_towards_robot', 'positive','neutral','negative','entrainment', 'phase',' ']\n",
    "df_other.columns = ['participant', 'towards_robot', 'not_towards_robot', 'positive','neutral','negative','entrainment', 'phase',' ']"
   ]
  },
  {
   "cell_type": "code",
   "execution_count": 18,
   "metadata": {},
   "outputs": [],
   "source": [
    "df_other = df_other.drop([' '], axis=1)\n",
    "df_intro = df_intro.drop([' '], axis=1)"
   ]
  },
  {
   "cell_type": "code",
   "execution_count": 20,
   "metadata": {},
   "outputs": [],
   "source": [
    "#convert strings to floats \n",
    "\n",
    "df_other['towards_robot'] = df_other['towards_robot'].astype(float)\n",
    "df_other['not_towards_robot'] = df_other['not_towards_robot'].astype(float)\n",
    "df_other['positive'] = df_other['positive'].astype(float)\n",
    "df_other['neutral'] = df_other['neutral'].astype(float)\n",
    "df_other['negative'] = df_other['negative'].astype(float)\n",
    "\n",
    "df_intro['towards_robot'] = df_intro['towards_robot'].astype(float)\n",
    "df_intro['not_towards_robot'] = df_intro['not_towards_robot'].astype(float)\n",
    "df_intro['positive'] = df_intro['positive'].astype(float)\n",
    "df_intro['neutral'] = df_intro['neutral'].astype(float)\n",
    "df_intro['negative'] = df_intro['negative'].astype(float)"
   ]
  },
  {
   "cell_type": "code",
   "execution_count": null,
   "metadata": {},
   "outputs": [],
   "source": [
    "#export data \n",
    "df_intro.to_csv(r'/directory/export_intro_data.csv', \n",
    "          sep=',', index = False, header=True)\n",
    "\n",
    "df_other.to_csv(r'/directory/export_other_data.csv', \n",
    "          sep=',', index = False, header=True)\n",
    "\n",
    "#optional: export the complete dataframe \n",
    "df.to_csv(r'/directory/export_complete_data.csv', \n",
    "          sep=',', index = False, header=True)"
   ]
  }
 ],
 "metadata": {
  "kernelspec": {
   "display_name": "Python 3",
   "language": "python",
   "name": "python3"
  },
  "language_info": {
   "codemirror_mode": {
    "name": "ipython",
    "version": 3
   },
   "file_extension": ".py",
   "mimetype": "text/x-python",
   "name": "python",
   "nbconvert_exporter": "python",
   "pygments_lexer": "ipython3",
   "version": "3.7.1"
  }
 },
 "nbformat": 4,
 "nbformat_minor": 2
}
