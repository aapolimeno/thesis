{
 "cells": [
  {
   "cell_type": "code",
   "execution_count": 33,
   "metadata": {},
   "outputs": [],
   "source": [
    "#this code was used for the pre-processing of the data from my BA thesis on entrainment in social robots\n",
    "#author: Alessandra Polimeno "
   ]
  },
  {
   "cell_type": "code",
   "execution_count": 63,
   "metadata": {},
   "outputs": [],
   "source": [
    "#open the .txt file\n",
    "pitch = open(\"pitch.txt\", \"r\", encoding='utf-16').read()"
   ]
  },
  {
   "cell_type": "code",
   "execution_count": 64,
   "metadata": {},
   "outputs": [],
   "source": [
    "#split the file on newlines\n",
    "lines = [x for x in pitch.splitlines()]\n",
    "lines\n",
    "\n",
    "#replace lowerscores by spaces\n",
    "labels = [x.replace('_',' ') for x in lines]\n",
    "\n",
    "#now split on spaces\n",
    "elements = [x.split(' ') for x in labels]"
   ]
  },
  {
   "cell_type": "code",
   "execution_count": 65,
   "metadata": {},
   "outputs": [],
   "source": [
    "#remove the indications 'f' and 't' from the data\n",
    "removed_tf = []\n",
    "for li in elements:\n",
    "    if li[5] == 'f' or li[5] =='t':\n",
    "        li.pop(5)\n",
    "    removed_tf.append(li)"
   ]
  },
  {
   "cell_type": "code",
   "execution_count": 66,
   "metadata": {},
   "outputs": [],
   "source": [
    "#create a dataframe\n",
    "import pandas as pd \n",
    "df = pd.DataFrame(removed_tf)"
   ]
  },
  {
   "cell_type": "code",
   "execution_count": 67,
   "metadata": {},
   "outputs": [],
   "source": [
    "#remove superfluous columns \n",
    "df = df.drop(axis=1, columns=[0,9,10,11,12])"
   ]
  },
  {
   "cell_type": "code",
   "execution_count": 68,
   "metadata": {},
   "outputs": [],
   "source": [
    "#remove incomplete data: NAN-values and empty strings\n",
    "df = df.dropna(axis=0)\n",
    "df = df[(df[8]!='')]"
   ]
  },
  {
   "cell_type": "code",
   "execution_count": 69,
   "metadata": {},
   "outputs": [],
   "source": [
    "#convert strings to numeric values\n",
    "df[6] = pd.to_numeric(df[6],errors='coerce')\n",
    "df[7] = pd.to_numeric(df[7],errors='coerce')\n",
    "df[8] = pd.to_numeric(df[8],errors='coerce')"
   ]
  },
  {
   "cell_type": "code",
   "execution_count": 70,
   "metadata": {},
   "outputs": [],
   "source": [
    "df = df.dropna(axis=0)"
   ]
  },
  {
   "cell_type": "code",
   "execution_count": 71,
   "metadata": {},
   "outputs": [],
   "source": [
    "#give convenient names to the columns\n",
    "df.columns = ['participant', 'group', 'phases', 'number', 'text', 'max_f0', 'min_f0', 'mean_f0']"
   ]
  },
  {
   "cell_type": "code",
   "execution_count": 72,
   "metadata": {},
   "outputs": [],
   "source": [
    "#creates a new column 'intro', and a new column 'range_f0'\n",
    "df['phase'] = df.phases.replace({'intro':1, r'.*':0}, regex=True)\n",
    "\n",
    "range_f0 = df.max_f0 - df.min_f0\n",
    "df['range_f0'] = range_f0"
   ]
  },
  {
   "cell_type": "code",
   "execution_count": 73,
   "metadata": {},
   "outputs": [],
   "source": [
    "#convert the text labels to lists containing words\n",
    "df['text'] = df['text'].str.split('-')"
   ]
  },
  {
   "cell_type": "code",
   "execution_count": 277,
   "metadata": {},
   "outputs": [],
   "source": [
    "#save the output \n",
    "df.to_csv(r'/Users/alessandrapolimeno/Documents/Uni/thesis_real thing/data_analysis/export_dataframe.csv', \n",
    "          sep=',', index = False, header=True)"
   ]
  }
 ],
 "metadata": {
  "kernelspec": {
   "display_name": "Python 3",
   "language": "python",
   "name": "python3"
  },
  "language_info": {
   "codemirror_mode": {
    "name": "ipython",
    "version": 3
   },
   "file_extension": ".py",
   "mimetype": "text/x-python",
   "name": "python",
   "nbconvert_exporter": "python",
   "pygments_lexer": "ipython3",
   "version": "3.7.1"
  }
 },
 "nbformat": 4,
 "nbformat_minor": 2
}
